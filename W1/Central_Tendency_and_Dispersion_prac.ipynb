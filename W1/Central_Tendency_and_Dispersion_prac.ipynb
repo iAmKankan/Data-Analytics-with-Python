{
  "nbformat": 4,
  "nbformat_minor": 0,
  "metadata": {
    "colab": {
      "provenance": [],
      "mount_file_id": "1-do3rLnfCKj4c2HaL2s66bsDA61t0Opm",
      "authorship_tag": "ABX9TyNRm67HEvyysvZxyyW8frxl",
      "include_colab_link": true
    },
    "kernelspec": {
      "name": "python3",
      "display_name": "Python 3"
    },
    "language_info": {
      "name": "python"
    }
  },
  "cells": [
    {
      "cell_type": "markdown",
      "metadata": {
        "id": "view-in-github",
        "colab_type": "text"
      },
      "source": [
        "<a href=\"https://colab.research.google.com/github/iAmKankan/Data-Analytics-with-Python/blob/main/W1/Central_Tendency_and_Dispersion_prac.ipynb\" target=\"_parent\"><img src=\"https://colab.research.google.com/assets/colab-badge.svg\" alt=\"Open In Colab\"/></a>"
      ]
    },
    {
      "cell_type": "markdown",
      "source": [
        "### Programming representation of Central Tendency and Dispersion with Python\n",
        "![deep](https://user-images.githubusercontent.com/12748752/126882429-37cbd66d-213c-4c00-b145-37773c820bf3.png)"
      ],
      "metadata": {
        "id": "Q-PsT86vkGsJ"
      }
    },
    {
      "cell_type": "code",
      "execution_count": 26,
      "metadata": {
        "id": "VZNM2TBAcXUN"
      },
      "outputs": [],
      "source": [
        "import pandas as pd\n",
        "import numpy as np"
      ]
    },
    {
      "cell_type": "code",
      "source": [
        "path = 'https://github.com/iAmKankan/Data-Analytics-with-Python/blob/main/W1/IBM-313Marks.xlsx?raw=true'\n",
        "table= pd.read_excel(path)\n",
        "print(table)"
      ],
      "metadata": {
        "colab": {
          "base_uri": "https://localhost:8080/"
        },
        "id": "hSDbhO7zcl7a",
        "outputId": "66836891-0f61-4988-dfaa-0e6efa5e844e"
      },
      "execution_count": 27,
      "outputs": [
        {
          "output_type": "stream",
          "name": "stdout",
          "text": [
            "    S.No.  MTE (25)  Mini Project (25)  Total (50)  ETE (50)  Total\n",
            "0       1      5.00                 20       25.00      12.0  37.00\n",
            "1       2     11.05                 20       31.05      26.0  57.05\n",
            "2       3      8.10                 20       28.10      14.0  42.10\n",
            "3       4      6.00                 10       16.00      13.0  29.00\n",
            "4       5     11.35                 20       31.35      17.0  48.35\n",
            "..    ...       ...                ...         ...       ...    ...\n",
            "74     75     12.05                 10       22.05      20.0  42.05\n",
            "75     76     12.25                 10       22.25      28.0  50.25\n",
            "76     77      1.75                 10       11.75       NaN   0.00\n",
            "77     78      3.00                 10       13.00       NaN   0.00\n",
            "78     79      5.80                 10       15.80      12.0  27.80\n",
            "\n",
            "[79 rows x 6 columns]\n"
          ]
        }
      ]
    },
    {
      "cell_type": "markdown",
      "source": [
        "### Mean\n",
        "![light](https://user-images.githubusercontent.com/12748752/126882430-cb0aa865-0c15-43f9-85d6-e6ce589c8772.png)\n",
        "\n",
        "#### Arithmetic Mean"
      ],
      "metadata": {
        "id": "MM0ZsiU0w6Qr"
      }
    },
    {
      "cell_type": "code",
      "source": [
        "x = table['Total']\n",
        "np.mean(x)"
      ],
      "metadata": {
        "colab": {
          "base_uri": "https://localhost:8080/"
        },
        "id": "yNpUiyuhc2xZ",
        "outputId": "f4f1e198-d011-4314-f3b6-92989fcfbd26"
      },
      "execution_count": 22,
      "outputs": [
        {
          "output_type": "execute_result",
          "data": {
            "text/plain": [
              "46.90632911392405"
            ]
          },
          "metadata": {},
          "execution_count": 22
        }
      ]
    },
    {
      "cell_type": "markdown",
      "source": [
        "#### Weighted Mean"
      ],
      "metadata": {
        "id": "ahRovgKHxP6K"
      }
    },
    {
      "cell_type": "code",
      "source": [
        "np.average(x)"
      ],
      "metadata": {
        "colab": {
          "base_uri": "https://localhost:8080/"
        },
        "id": "AeCcKEuKfLw6",
        "outputId": "c8f4f055-5b8b-4425-94c3-e42d34cece79"
      },
      "execution_count": 14,
      "outputs": [
        {
          "output_type": "execute_result",
          "data": {
            "text/plain": [
              "46.90632911392405"
            ]
          },
          "metadata": {},
          "execution_count": 14
        }
      ]
    },
    {
      "cell_type": "markdown",
      "source": [
        "### Median\n",
        "![light](https://user-images.githubusercontent.com/12748752/126882430-cb0aa865-0c15-43f9-85d6-e6ce589c8772.png)"
      ],
      "metadata": {
        "id": "x-uC5rZexYs0"
      }
    },
    {
      "cell_type": "code",
      "source": [
        "np.median(x)"
      ],
      "metadata": {
        "colab": {
          "base_uri": "https://localhost:8080/"
        },
        "id": "iEIbZgsshhhx",
        "outputId": "20b67925-7e52-4b17-9b7c-b6144ebbdf19"
      },
      "execution_count": null,
      "outputs": [
        {
          "output_type": "execute_result",
          "data": {
            "text/plain": [
              "45.0"
            ]
          },
          "metadata": {},
          "execution_count": 16
        }
      ]
    },
    {
      "cell_type": "markdown",
      "source": [
        "### Mode\n",
        "![light](https://user-images.githubusercontent.com/12748752/126882430-cb0aa865-0c15-43f9-85d6-e6ce589c8772.png)"
      ],
      "metadata": {
        "id": "lttz9nIWxh5O"
      }
    },
    {
      "cell_type": "code",
      "source": [
        "import scipy\n",
        "from scipy import stats\n",
        "stats.mode(x)"
      ],
      "metadata": {
        "colab": {
          "base_uri": "https://localhost:8080/"
        },
        "id": "IcvwkTSWimix",
        "outputId": "5c2f1aae-02fc-4f56-c3be-6ad4cfba460f"
      },
      "execution_count": null,
      "outputs": [
        {
          "output_type": "execute_result",
          "data": {
            "text/plain": [
              "ModeResult(mode=0.0, count=2)"
            ]
          },
          "metadata": {},
          "execution_count": 18
        }
      ]
    },
    {
      "cell_type": "markdown",
      "source": [
        "### Percentile\n",
        "![light](https://user-images.githubusercontent.com/12748752/126882430-cb0aa865-0c15-43f9-85d6-e6ce589c8772.png)"
      ],
      "metadata": {
        "id": "zVXX_phi0t1H"
      }
    },
    {
      "cell_type": "code",
      "source": [
        "a = np.array([1,2,3,4,5])\n",
        "p = np.percentile(a,50)\n",
        "print(p)"
      ],
      "metadata": {
        "colab": {
          "base_uri": "https://localhost:8080/"
        },
        "id": "Yf7spjaAit_X",
        "outputId": "85560f1b-79cb-4090-aa84-82886ce1d441"
      },
      "execution_count": null,
      "outputs": [
        {
          "output_type": "stream",
          "name": "stdout",
          "text": [
            "3.0\n"
          ]
        }
      ]
    },
    {
      "cell_type": "markdown",
      "source": [
        "### Example of for-loop\n",
        "![light](https://user-images.githubusercontent.com/12748752/126882430-cb0aa865-0c15-43f9-85d6-e6ce589c8772.png)"
      ],
      "metadata": {
        "id": "YsBaCWIHBkkd"
      }
    },
    {
      "cell_type": "code",
      "source": [
        "k = ['Ram',65,2.5]\n",
        "print(k)"
      ],
      "metadata": {
        "colab": {
          "base_uri": "https://localhost:8080/"
        },
        "id": "sMHWGiYl1Je9",
        "outputId": "ce34118c-55c8-4c55-9021-68db75ca0989"
      },
      "execution_count": null,
      "outputs": [
        {
          "output_type": "stream",
          "name": "stdout",
          "text": [
            "['Ram', 65, 2.5]\n"
          ]
        }
      ]
    },
    {
      "cell_type": "code",
      "source": [
        "for i in k:\n",
        "  print(i)"
      ],
      "metadata": {
        "colab": {
          "base_uri": "https://localhost:8080/"
        },
        "id": "6ncJDWtPB2ey",
        "outputId": "0016eae2-17a8-4fcd-eef1-2594904bfb8e"
      },
      "execution_count": null,
      "outputs": [
        {
          "output_type": "stream",
          "name": "stdout",
          "text": [
            "Ram\n",
            "65\n",
            "2.5\n"
          ]
        }
      ]
    },
    {
      "cell_type": "markdown",
      "source": [
        "### Range\n",
        "![light](https://user-images.githubusercontent.com/12748752/126882430-cb0aa865-0c15-43f9-85d6-e6ce589c8772.png)"
      ],
      "metadata": {
        "id": "oOYQpSbJI0ip"
      }
    },
    {
      "cell_type": "code",
      "source": [
        "for i in range(10,20,2): print(i)"
      ],
      "metadata": {
        "colab": {
          "base_uri": "https://localhost:8080/"
        },
        "id": "8I0Zr1_DCIby",
        "outputId": "d92bd200-95cc-4670-9327-97ab0fdd4025"
      },
      "execution_count": null,
      "outputs": [
        {
          "output_type": "stream",
          "name": "stdout",
          "text": [
            "10\n",
            "12\n",
            "14\n",
            "16\n",
            "18\n"
          ]
        }
      ]
    },
    {
      "cell_type": "code",
      "source": [
        "for i in range(10,20,2): print(i,end=',')"
      ],
      "metadata": {
        "colab": {
          "base_uri": "https://localhost:8080/"
        },
        "id": "YVAQveLnJHT-",
        "outputId": "0283ba7f-da66-4019-c0a8-1000498a048c"
      },
      "execution_count": null,
      "outputs": [
        {
          "output_type": "stream",
          "name": "stdout",
          "text": [
            "10,12,14,16,18,"
          ]
        }
      ]
    },
    {
      "cell_type": "markdown",
      "source": [
        "### Function\n",
        "![light](https://user-images.githubusercontent.com/12748752/126882430-cb0aa865-0c15-43f9-85d6-e6ce589c8772.png)"
      ],
      "metadata": {
        "id": "ZxmBSNXJJahX"
      }
    },
    {
      "cell_type": "code",
      "source": [
        "def greet():\n",
        "  print('Hi')\n",
        "  print('Good Morning')"
      ],
      "metadata": {
        "id": "GM9LyPFsJRaw"
      },
      "execution_count": null,
      "outputs": []
    },
    {
      "cell_type": "code",
      "source": [
        "greet()"
      ],
      "metadata": {
        "colab": {
          "base_uri": "https://localhost:8080/"
        },
        "id": "9UB5FHNJJuwf",
        "outputId": "51e05aaf-bb8d-4ee6-e76a-60eb4889b18c"
      },
      "execution_count": null,
      "outputs": [
        {
          "output_type": "stream",
          "name": "stdout",
          "text": [
            "Hi\n",
            "Good Morning\n"
          ]
        }
      ]
    },
    {
      "cell_type": "code",
      "source": [
        "def add(p,q):\n",
        "  c=p+q\n",
        "  print(c)"
      ],
      "metadata": {
        "id": "OHMH1QB2J8LA"
      },
      "execution_count": null,
      "outputs": []
    },
    {
      "cell_type": "code",
      "source": [
        "add(6,4)"
      ],
      "metadata": {
        "colab": {
          "base_uri": "https://localhost:8080/"
        },
        "id": "F-cztVQSKTu4",
        "outputId": "ae801782-2490-4d06-b8ff-a6ca06bcc888"
      },
      "execution_count": null,
      "outputs": [
        {
          "output_type": "stream",
          "name": "stdout",
          "text": [
            "10\n"
          ]
        }
      ]
    },
    {
      "cell_type": "markdown",
      "source": [
        "### Finding and minimum and maximum values\n",
        "![light](https://user-images.githubusercontent.com/12748752/126882430-cb0aa865-0c15-43f9-85d6-e6ce589c8772.png)"
      ],
      "metadata": {
        "id": "K13B0U8hKgPM"
      }
    },
    {
      "cell_type": "code",
      "source": [
        "data = [1,3,4,463,2,3,6,8,9,4,254,6,72]\n",
        "min(data),max(data)"
      ],
      "metadata": {
        "colab": {
          "base_uri": "https://localhost:8080/"
        },
        "id": "F3SwNU75KXYQ",
        "outputId": "ad2c52a0-e4fc-4636-88f9-edf1083957a3"
      },
      "execution_count": null,
      "outputs": [
        {
          "output_type": "execute_result",
          "data": {
            "text/plain": [
              "(1, 463)"
            ]
          },
          "metadata": {},
          "execution_count": 28
        }
      ]
    },
    {
      "cell_type": "code",
      "source": [
        "data = [1,3,4,463,2,3,6,8,9,4,254,6,72]\n",
        "def min_max(data):\n",
        "  min_val=min(data)\n",
        "  max_val=max(data)\n",
        "  return(min_val,max_val)"
      ],
      "metadata": {
        "id": "WrtE_KyyLtVR"
      },
      "execution_count": null,
      "outputs": []
    },
    {
      "cell_type": "code",
      "source": [
        "min_max(data)"
      ],
      "metadata": {
        "colab": {
          "base_uri": "https://localhost:8080/"
        },
        "id": "QxxCr2WiPLS-",
        "outputId": "29c1593a-3b06-4901-b58c-91d48bc4edba"
      },
      "execution_count": null,
      "outputs": [
        {
          "output_type": "execute_result",
          "data": {
            "text/plain": [
              "(1, 463)"
            ]
          },
          "metadata": {},
          "execution_count": 31
        }
      ]
    },
    {
      "cell_type": "code",
      "source": [
        "def rangef(data):\n",
        "  min_val=min(data)\n",
        "  max_val=max(data)\n",
        "  return(max_val-min_val)\n"
      ],
      "metadata": {
        "id": "iAeJU4WFPg8n"
      },
      "execution_count": null,
      "outputs": []
    },
    {
      "cell_type": "code",
      "source": [
        "rangef(data)"
      ],
      "metadata": {
        "colab": {
          "base_uri": "https://localhost:8080/"
        },
        "id": "kkYgv3AmQNDf",
        "outputId": "1043d2e5-f803-4833-c5bb-097f21cd7a45"
      },
      "execution_count": null,
      "outputs": [
        {
          "output_type": "execute_result",
          "data": {
            "text/plain": [
              "462"
            ]
          },
          "metadata": {},
          "execution_count": 33
        }
      ]
    },
    {
      "cell_type": "markdown",
      "source": [
        "### Quartile\n",
        "![light](https://user-images.githubusercontent.com/12748752/126882430-cb0aa865-0c15-43f9-85d6-e6ce589c8772.png)"
      ],
      "metadata": {
        "id": "f3PtY7Y3Qhg_"
      }
    },
    {
      "cell_type": "code",
      "source": [
        "a = np.array([1,2,3,4,5])\n",
        "q1 = np.percentile(a,25)\n",
        "print(q1)"
      ],
      "metadata": {
        "id": "5ZSd9WhtQRs_",
        "colab": {
          "base_uri": "https://localhost:8080/"
        },
        "outputId": "1cd02d18-dc5c-456d-f6dd-a7cccf75605c"
      },
      "execution_count": 3,
      "outputs": [
        {
          "output_type": "stream",
          "name": "stdout",
          "text": [
            "2.0\n"
          ]
        }
      ]
    },
    {
      "cell_type": "code",
      "source": [
        "q2 = np.percentile(a,50)\n",
        "print(q2)"
      ],
      "metadata": {
        "colab": {
          "base_uri": "https://localhost:8080/"
        },
        "id": "V2S_gU4eMhyA",
        "outputId": "e70957db-9b00-4747-c285-58ebb82e7937"
      },
      "execution_count": 4,
      "outputs": [
        {
          "output_type": "stream",
          "name": "stdout",
          "text": [
            "3.0\n"
          ]
        }
      ]
    },
    {
      "cell_type": "code",
      "source": [
        "q3 = np.percentile(a,75)\n",
        "print(q3)"
      ],
      "metadata": {
        "colab": {
          "base_uri": "https://localhost:8080/"
        },
        "id": "5bNMX9eVN5Qb",
        "outputId": "39ffd845-ce69-4462-f722-ed882961848d"
      },
      "execution_count": 5,
      "outputs": [
        {
          "output_type": "stream",
          "name": "stdout",
          "text": [
            "4.0\n"
          ]
        }
      ]
    },
    {
      "cell_type": "markdown",
      "source": [
        "### Inter-Quartile range\n",
        "![light](https://user-images.githubusercontent.com/12748752/126882430-cb0aa865-0c15-43f9-85d6-e6ce589c8772.png)"
      ],
      "metadata": {
        "id": "P_SY-6EjOJxY"
      }
    },
    {
      "cell_type": "code",
      "source": [
        "IQ = q3- q1\n",
        "print(IQ)"
      ],
      "metadata": {
        "colab": {
          "base_uri": "https://localhost:8080/"
        },
        "id": "aE5vmt7MN_Db",
        "outputId": "08dd4ccf-6435-42ca-ae97-1428acbb9836"
      },
      "execution_count": 8,
      "outputs": [
        {
          "output_type": "stream",
          "name": "stdout",
          "text": [
            "2.0\n"
          ]
        }
      ]
    },
    {
      "cell_type": "markdown",
      "source": [
        "### Varience $\\sigma^2$\n",
        "![light](https://user-images.githubusercontent.com/12748752/126882430-cb0aa865-0c15-43f9-85d6-e6ce589c8772.png)\n"
      ],
      "metadata": {
        "id": "eatFaEH7OnoG"
      }
    },
    {
      "cell_type": "code",
      "source": [
        "np.var(x)"
      ],
      "metadata": {
        "colab": {
          "base_uri": "https://localhost:8080/"
        },
        "id": "z2lhcznrOfpD",
        "outputId": "d5222fc1-7179-4b83-c883-5de97636c4c8"
      },
      "execution_count": 15,
      "outputs": [
        {
          "output_type": "execute_result",
          "data": {
            "text/plain": [
              "262.7814789296587"
            ]
          },
          "metadata": {},
          "execution_count": 15
        }
      ]
    },
    {
      "cell_type": "markdown",
      "source": [
        "### Population: Standerd Deviation $\\sigma$\n",
        "![light](https://user-images.githubusercontent.com/12748752/126882430-cb0aa865-0c15-43f9-85d6-e6ce589c8772.png)"
      ],
      "metadata": {
        "id": "HKQr5aG2ReFn"
      }
    },
    {
      "cell_type": "code",
      "source": [
        "import statistics\n",
        "statistics.pstdev(x)"
      ],
      "metadata": {
        "colab": {
          "base_uri": "https://localhost:8080/"
        },
        "id": "731xW_WhOguL",
        "outputId": "f78d2956-ac55-49a9-cb1b-ed04108b3971"
      },
      "execution_count": 16,
      "outputs": [
        {
          "output_type": "execute_result",
          "data": {
            "text/plain": [
              "16.210536046955966"
            ]
          },
          "metadata": {},
          "execution_count": 16
        }
      ]
    },
    {
      "cell_type": "markdown",
      "source": [
        "### Sample: Standerd Deviation\n",
        "![light](https://user-images.githubusercontent.com/12748752/126882430-cb0aa865-0c15-43f9-85d6-e6ce589c8772.png)"
      ],
      "metadata": {
        "id": "Wula5jECSzgZ"
      }
    },
    {
      "cell_type": "code",
      "source": [
        "statistics.stdev(x)"
      ],
      "metadata": {
        "colab": {
          "base_uri": "https://localhost:8080/"
        },
        "id": "FlBnpuVPS_Xy",
        "outputId": "48ec83eb-0f75-4710-f1c8-e0edf53c8b78"
      },
      "execution_count": 18,
      "outputs": [
        {
          "output_type": "execute_result",
          "data": {
            "text/plain": [
              "16.31411880088133"
            ]
          },
          "metadata": {},
          "execution_count": 18
        }
      ]
    },
    {
      "cell_type": "markdown",
      "source": [
        "### Numpy function"
      ],
      "metadata": {
        "id": "ceCgrItFTyfe"
      }
    },
    {
      "cell_type": "code",
      "source": [
        "np.std(x)"
      ],
      "metadata": {
        "colab": {
          "base_uri": "https://localhost:8080/"
        },
        "id": "Gbx6-8kNTcjG",
        "outputId": "68a891d4-88ef-42bb-ed56-3f1f329e2408"
      },
      "execution_count": 19,
      "outputs": [
        {
          "output_type": "execute_result",
          "data": {
            "text/plain": [
              "16.210536046955966"
            ]
          },
          "metadata": {},
          "execution_count": 19
        }
      ]
    },
    {
      "cell_type": "markdown",
      "source": [
        "### Skewness\n",
        "![light](https://user-images.githubusercontent.com/12748752/126882430-cb0aa865-0c15-43f9-85d6-e6ce589c8772.png)"
      ],
      "metadata": {
        "id": "5wFsD8yPT_Va"
      }
    },
    {
      "cell_type": "code",
      "source": [
        "from scipy.stats import skew\n",
        "skew(x)"
      ],
      "metadata": {
        "colab": {
          "base_uri": "https://localhost:8080/"
        },
        "id": "cVgyVYh3TvpZ",
        "outputId": "91c78eb7-8060-468a-e7ff-fa5f70d9a051"
      },
      "execution_count": 23,
      "outputs": [
        {
          "output_type": "execute_result",
          "data": {
            "text/plain": [
              "0.10226407464884266"
            ]
          },
          "metadata": {},
          "execution_count": 23
        }
      ]
    },
    {
      "cell_type": "markdown",
      "source": [
        "### Box Plot\n",
        "![light](https://user-images.githubusercontent.com/12748752/126882430-cb0aa865-0c15-43f9-85d6-e6ce589c8772.png)"
      ],
      "metadata": {
        "id": "o5BcNrGFiE1v"
      }
    },
    {
      "cell_type": "code",
      "source": [
        "from matplotlib import pyplot as plt\n",
        "plt.boxplot(x, sym='*')\n",
        "plt.show()"
      ],
      "metadata": {
        "colab": {
          "base_uri": "https://localhost:8080/",
          "height": 430
        },
        "id": "7Kc8yxcHh9k4",
        "outputId": "c50a2f2c-b242-42e4-9f22-61e1c5e68669"
      },
      "execution_count": 25,
      "outputs": [
        {
          "output_type": "display_data",
          "data": {
            "text/plain": [
              "<Figure size 640x480 with 1 Axes>"
            ],
            "image/png": "[encoded data removed]"
          },
          "metadata": {}
        }
      ]
    }
  ]
}