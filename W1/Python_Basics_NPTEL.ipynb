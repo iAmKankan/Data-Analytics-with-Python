{
  "nbformat": 4,
  "nbformat_minor": 0,
  "metadata": {
    "colab": {
      "provenance": [],
      "authorship_tag": "ABX9TyMcV8UMsZL8HIpMxGHAV2sZ",
      "include_colab_link": true
    },
    "kernelspec": {
      "name": "python3",
      "display_name": "Python 3"
    },
    "language_info": {
      "name": "python"
    }
  },
  "cells": [
    {
      "cell_type": "markdown",
      "metadata": {
        "id": "view-in-github",
        "colab_type": "text"
      },
      "source": [
        "<a href=\"https://colab.research.google.com/github/iAmKankan/Data-Analytics-with-Python/blob/main/W1/Python_Basics_NPTEL.ipynb\" target=\"_parent\"><img src=\"https://colab.research.google.com/assets/colab-badge.svg\" alt=\"Open In Colab\"/></a>"
      ]
    },
    {
      "cell_type": "markdown",
      "source": [
        "### $\\large{\\color{blue}Python\\ Fundamentals\\ 1}$\n",
        "![dark](https://user-images.githubusercontent.com/12748752/126882595-d1f5449e-14bb-4ab3-809c-292caf0858a1.png)\n",
        "\n",
        "### $\\large{\\color{Purple}About\\ Jupyter\\ Notebook}$\n",
        "![light](https://user-images.githubusercontent.com/12748752/126882596-b9ba4645-7001-435e-9a3c-d4416a2543c1.png)\n",
        "\n",
        "* Command mode allow to edit notebook as whole\n",
        "* To close edit mode (Press Escape key)\n",
        "*Execution (Three ways)\n",
        "  * Ctrl+Enter (Output field can not be modified)\n",
        "  * Shift +Enter (Output field is modified)\n",
        "  * Run button on Jupyter interface\n",
        "* Comment line is written preceding with #symbol."
      ],
      "metadata": {
        "id": "5WUbJxTfYe4T"
      }
    },
    {
      "cell_type": "code",
      "source": [
        "!pip install pandas"
      ],
      "metadata": {
        "colab": {
          "base_uri": "https://localhost:8080/"
        },
        "id": "0_p2iTRpq-oH",
        "outputId": "011bcc20-e47d-41a7-e1bf-963a04b500b0"
      },
      "execution_count": 47,
      "outputs": [
        {
          "output_type": "stream",
          "name": "stdout",
          "text": [
            "Requirement already satisfied: pandas in /usr/local/lib/python3.10/dist-packages (1.5.3)\n",
            "Requirement already satisfied: python-dateutil>=2.8.1 in /usr/local/lib/python3.10/dist-packages (from pandas) (2.8.2)\n",
            "Requirement already satisfied: pytz>=2020.1 in /usr/local/lib/python3.10/dist-packages (from pandas) (2023.4)\n",
            "Requirement already satisfied: numpy>=1.21.0 in /usr/local/lib/python3.10/dist-packages (from pandas) (1.25.2)\n",
            "Requirement already satisfied: six>=1.5 in /usr/local/lib/python3.10/dist-packages (from python-dateutil>=2.8.1->pandas) (1.16.0)\n"
          ]
        }
      ]
    },
    {
      "cell_type": "code",
      "source": [
        "import pandas as pd\n",
        "import numpy as np\n",
        "import matplotlib.pyplot as plt"
      ],
      "metadata": {
        "id": "44HZum0BoBU1"
      },
      "execution_count": 48,
      "outputs": []
    },
    {
      "cell_type": "code",
      "source": [
        "url = 'https://raw.githubusercontent.com/iAmKankan/Data-Analytics-with-Python/main/W1/gapminder-FiveYearData.csv'"
      ],
      "metadata": {
        "id": "QSEoU_rUrK-1"
      },
      "execution_count": 49,
      "outputs": []
    },
    {
      "cell_type": "code",
      "source": [
        "df = pd.read_csv(url)"
      ],
      "metadata": {
        "id": "eYBTS86iYsXh"
      },
      "execution_count": 50,
      "outputs": []
    },
    {
      "cell_type": "markdown",
      "source": [
        "#### $\\large{\\color{Purple}head() }$   shows first 5 rows\n",
        "![light](https://user-images.githubusercontent.com/12748752/126882596-b9ba4645-7001-435e-9a3c-d4416a2543c1.png)\n"
      ],
      "metadata": {
        "id": "jl3RjacjrlIa"
      }
    },
    {
      "cell_type": "code",
      "source": [
        "print(df.head())"
      ],
      "metadata": {
        "colab": {
          "base_uri": "https://localhost:8080/"
        },
        "id": "WLz6y3F5tPFb",
        "outputId": "66178153-78d2-4a60-d089-d03467e2ff96"
      },
      "execution_count": 51,
      "outputs": [
        {
          "output_type": "stream",
          "name": "stdout",
          "text": [
            "       country  year         pop continent  lifeExp   gdpPercap\n",
            "0  Afghanistan  1952   8425333.0      Asia   28.801  779.445314\n",
            "1  Afghanistan  1957   9240934.0      Asia   30.332  820.853030\n",
            "2  Afghanistan  1962  10267083.0      Asia   31.997  853.100710\n",
            "3  Afghanistan  1967  11537966.0      Asia   34.020  836.197138\n",
            "4  Afghanistan  1972  13079460.0      Asia   36.088  739.981106\n"
          ]
        }
      ]
    },
    {
      "cell_type": "markdown",
      "source": [
        "#### $\\large{\\color{Purple}pd.shape}$ shows number of columns and number of rows\n",
        "![light](https://user-images.githubusercontent.com/12748752/126882596-b9ba4645-7001-435e-9a3c-d4416a2543c1.png)"
      ],
      "metadata": {
        "id": "dnVBFCI7thHL"
      }
    },
    {
      "cell_type": "code",
      "source": [
        "print(df.shape)"
      ],
      "metadata": {
        "colab": {
          "base_uri": "https://localhost:8080/"
        },
        "id": "ESYqf55juJbN",
        "outputId": "d1bba5ba-f18b-4db2-b868-552a9e2dc2d6"
      },
      "execution_count": 52,
      "outputs": [
        {
          "output_type": "stream",
          "name": "stdout",
          "text": [
            "(1704, 6)\n"
          ]
        }
      ]
    },
    {
      "cell_type": "markdown",
      "source": [
        "#### $\\large{\\color{Purple}pd.columns}$ shows all the column name or labels\n",
        "![light](https://user-images.githubusercontent.com/12748752/126882596-b9ba4645-7001-435e-9a3c-d4416a2543c1.png)"
      ],
      "metadata": {
        "id": "6flLY7m8uqyM"
      }
    },
    {
      "cell_type": "code",
      "source": [
        "print(df.columns)"
      ],
      "metadata": {
        "colab": {
          "base_uri": "https://localhost:8080/"
        },
        "id": "kz4kGvTRo1pQ",
        "outputId": "a830f157-ba61-44ee-c38b-0becd4a24a90"
      },
      "execution_count": 53,
      "outputs": [
        {
          "output_type": "stream",
          "name": "stdout",
          "text": [
            "Index(['country', 'year', 'pop', 'continent', 'lifeExp', 'gdpPercap'], dtype='object')\n"
          ]
        }
      ]
    },
    {
      "cell_type": "markdown",
      "source": [
        "#### $\\large{\\color{Purple}pd.dtypes}$ shows datatype of each column\n",
        "![light](https://user-images.githubusercontent.com/12748752/126882596-b9ba4645-7001-435e-9a3c-d4416a2543c1.png)"
      ],
      "metadata": {
        "id": "P8GV_5NcvFq9"
      }
    },
    {
      "cell_type": "code",
      "source": [
        "print(df.dtypes)"
      ],
      "metadata": {
        "colab": {
          "base_uri": "https://localhost:8080/"
        },
        "id": "V0fskPzPubwB",
        "outputId": "30db8c1f-c3f6-4653-b616-ed7955af36fd"
      },
      "execution_count": 54,
      "outputs": [
        {
          "output_type": "stream",
          "name": "stdout",
          "text": [
            "country       object\n",
            "year           int64\n",
            "pop          float64\n",
            "continent     object\n",
            "lifeExp      float64\n",
            "gdpPercap    float64\n",
            "dtype: object\n"
          ]
        }
      ]
    },
    {
      "cell_type": "markdown",
      "source": [
        "### Pandas type Vs Python type\n",
        "![light](https://user-images.githubusercontent.com/12748752/126882596-b9ba4645-7001-435e-9a3c-d4416a2543c1.png)\n",
        "\n",
        "<div align=\"center\">\n",
        "\n",
        "|Pandas Type| Python Type|Description|\n",
        "|:---|:---|:---|\n",
        "|`object`|`string`|Most common Datatype|\n",
        "|`int64`|`int`|Whole number|\n",
        "|`float64`|`float`|Decimal numbers|\n",
        "|`datetime64`|`datetime`|Its need to be loaded explicitly|\n",
        "\n",
        "</div>"
      ],
      "metadata": {
        "id": "n270l6cAxQKr"
      }
    },
    {
      "cell_type": "markdown",
      "source": [
        "#### $\\large{\\color{Purple}pd.info()}$ shows datatype, null-values, null-value counts of each column\n",
        "![light](https://user-images.githubusercontent.com/12748752/126882596-b9ba4645-7001-435e-9a3c-d4416a2543c1.png)"
      ],
      "metadata": {
        "id": "3zg_EyLqwMfT"
      }
    },
    {
      "cell_type": "code",
      "source": [
        "print(df.info())"
      ],
      "metadata": {
        "colab": {
          "base_uri": "https://localhost:8080/"
        },
        "id": "TyvJvxrBv1Gp",
        "outputId": "f56f62ca-6bf8-4030-a5c7-da5c67aaca7b"
      },
      "execution_count": 55,
      "outputs": [
        {
          "output_type": "stream",
          "name": "stdout",
          "text": [
            "<class 'pandas.core.frame.DataFrame'>\n",
            "RangeIndex: 1704 entries, 0 to 1703\n",
            "Data columns (total 6 columns):\n",
            " #   Column     Non-Null Count  Dtype  \n",
            "---  ------     --------------  -----  \n",
            " 0   country    1704 non-null   object \n",
            " 1   year       1704 non-null   int64  \n",
            " 2   pop        1704 non-null   float64\n",
            " 3   continent  1704 non-null   object \n",
            " 4   lifeExp    1704 non-null   float64\n",
            " 5   gdpPercap  1704 non-null   float64\n",
            "dtypes: float64(3), int64(1), object(2)\n",
            "memory usage: 80.0+ KB\n",
            "None\n"
          ]
        }
      ]
    },
    {
      "cell_type": "markdown",
      "source": [
        "#### $\\large{\\color{Purple}pd.loc()}$ & $\\large{\\color{Purple}\\ pd.iloc()}$ for selecting Columns, Rows and Cells\n",
        "![light](https://user-images.githubusercontent.com/12748752/126882596-b9ba4645-7001-435e-9a3c-d4416a2543c1.png)\n",
        "### <ins><b>Columnwise</b></ins>"
      ],
      "metadata": {
        "id": "ww_4AfHexFx5"
      }
    },
    {
      "cell_type": "code",
      "source": [
        "country_df=df['country']"
      ],
      "metadata": {
        "id": "i1RuiIahz4ZL"
      },
      "execution_count": 56,
      "outputs": []
    },
    {
      "cell_type": "code",
      "source": [
        "print(country_df.head())"
      ],
      "metadata": {
        "colab": {
          "base_uri": "https://localhost:8080/"
        },
        "id": "McsCHHLz0gNt",
        "outputId": "cd0056cc-5f50-4122-c546-037918802069"
      },
      "execution_count": 57,
      "outputs": [
        {
          "output_type": "stream",
          "name": "stdout",
          "text": [
            "0    Afghanistan\n",
            "1    Afghanistan\n",
            "2    Afghanistan\n",
            "3    Afghanistan\n",
            "4    Afghanistan\n",
            "Name: country, dtype: object\n"
          ]
        }
      ]
    },
    {
      "cell_type": "code",
      "source": [
        "print(country_df.tail())"
      ],
      "metadata": {
        "colab": {
          "base_uri": "https://localhost:8080/"
        },
        "id": "3ZqGmKQs1ADF",
        "outputId": "12cfc54b-12e1-4daa-aa2f-c8ee6b609aa0"
      },
      "execution_count": 58,
      "outputs": [
        {
          "output_type": "stream",
          "name": "stdout",
          "text": [
            "1699    Zimbabwe\n",
            "1700    Zimbabwe\n",
            "1701    Zimbabwe\n",
            "1702    Zimbabwe\n",
            "1703    Zimbabwe\n",
            "Name: country, dtype: object\n"
          ]
        }
      ]
    },
    {
      "cell_type": "markdown",
      "source": [
        "### <ins><b>Multiple Columnwise or Subset Solumnwise</b></ins>\n"
      ],
      "metadata": {
        "id": "_f_r7PcZ1b7_"
      }
    },
    {
      "cell_type": "code",
      "source": [
        "subset_df = df[['country','continent','year']]\n",
        "print(subset_df)"
      ],
      "metadata": {
        "colab": {
          "base_uri": "https://localhost:8080/"
        },
        "id": "8rzkqc2H1GQl",
        "outputId": "99625672-a93b-4bc2-a0f0-ea0e058c9848"
      },
      "execution_count": 59,
      "outputs": [
        {
          "output_type": "stream",
          "name": "stdout",
          "text": [
            "          country continent  year\n",
            "0     Afghanistan      Asia  1952\n",
            "1     Afghanistan      Asia  1957\n",
            "2     Afghanistan      Asia  1962\n",
            "3     Afghanistan      Asia  1967\n",
            "4     Afghanistan      Asia  1972\n",
            "...           ...       ...   ...\n",
            "1699     Zimbabwe    Africa  1987\n",
            "1700     Zimbabwe    Africa  1992\n",
            "1701     Zimbabwe    Africa  1997\n",
            "1702     Zimbabwe    Africa  2002\n",
            "1703     Zimbabwe    Africa  2007\n",
            "\n",
            "[1704 rows x 3 columns]\n"
          ]
        }
      ]
    },
    {
      "cell_type": "markdown",
      "source": [
        "### <ins><b>Subset row by Index Label</b></ins>(using **`loc()`**)\n",
        "\n",
        "* Get the <b>1<sup>st</sup></b> row.(Python counts from **0**)"
      ],
      "metadata": {
        "id": "3nW1Cq3B2RaC"
      }
    },
    {
      "cell_type": "code",
      "source": [
        "print(df.loc[0])"
      ],
      "metadata": {
        "colab": {
          "base_uri": "https://localhost:8080/"
        },
        "id": "fSelFjpO1wOF",
        "outputId": "41febb3a-fb7c-41d8-c299-a0e4c12566f8"
      },
      "execution_count": 60,
      "outputs": [
        {
          "output_type": "stream",
          "name": "stdout",
          "text": [
            "country      Afghanistan\n",
            "year                1952\n",
            "pop            8425333.0\n",
            "continent           Asia\n",
            "lifeExp           28.801\n",
            "gdpPercap     779.445314\n",
            "Name: 0, dtype: object\n"
          ]
        }
      ]
    },
    {
      "cell_type": "markdown",
      "source": [
        "* Get the <b>100<sup>th</sup></b> row.(Python counts from **0**)"
      ],
      "metadata": {
        "id": "vcBymNdN5Wly"
      }
    },
    {
      "cell_type": "code",
      "source": [
        "print(df.loc[99])"
      ],
      "metadata": {
        "colab": {
          "base_uri": "https://localhost:8080/"
        },
        "id": "IxaRUJ8-3eIV",
        "outputId": "68c10105-0f97-4396-e3e0-31360ff7219d"
      },
      "execution_count": 61,
      "outputs": [
        {
          "output_type": "stream",
          "name": "stdout",
          "text": [
            "country      Bangladesh\n",
            "year               1967\n",
            "pop          62821884.0\n",
            "continent          Asia\n",
            "lifeExp          43.453\n",
            "gdpPercap    721.186086\n",
            "Name: 99, dtype: object\n"
          ]
        }
      ]
    },
    {
      "cell_type": "markdown",
      "source": [
        "* Get the <b>last</b> row."
      ],
      "metadata": {
        "id": "cn8EUa0S59_h"
      }
    },
    {
      "cell_type": "code",
      "source": [
        "print(df.tail(n=1))"
      ],
      "metadata": {
        "colab": {
          "base_uri": "https://localhost:8080/"
        },
        "id": "u69Xy2tK5dJ7",
        "outputId": "8511be90-0d2a-4ed5-d0b6-3ef9c935dbea"
      },
      "execution_count": 62,
      "outputs": [
        {
          "output_type": "stream",
          "name": "stdout",
          "text": [
            "       country  year         pop continent  lifeExp   gdpPercap\n",
            "1703  Zimbabwe  2007  12311143.0    Africa   43.487  469.709298\n"
          ]
        }
      ]
    },
    {
      "cell_type": "markdown",
      "source": [
        "* Get the <b>1<sup>st</sup></b> row, <b>100<sup>th</sup></b> row and <b>1000<sup>th</sup></b> row.(Python counts from **0**)"
      ],
      "metadata": {
        "id": "_q7d0nL76Y5s"
      }
    },
    {
      "cell_type": "code",
      "source": [
        "print(df.loc[[0,99,999]])"
      ],
      "metadata": {
        "colab": {
          "base_uri": "https://localhost:8080/"
        },
        "id": "JH9vN1LT6H1C",
        "outputId": "d19042a9-a3d2-4d24-fe37-ddbff04aac66"
      },
      "execution_count": 63,
      "outputs": [
        {
          "output_type": "stream",
          "name": "stdout",
          "text": [
            "         country  year         pop continent  lifeExp    gdpPercap\n",
            "0    Afghanistan  1952   8425333.0      Asia   28.801   779.445314\n",
            "99    Bangladesh  1967  62821884.0      Asia   43.453   721.186086\n",
            "999     Mongolia  1967   1149500.0      Asia   51.253  1226.041130\n"
          ]
        }
      ]
    },
    {
      "cell_type": "markdown",
      "source": [
        "### <ins><b>Subset rows by Row Numbers</b></ins>(using **`iloc()`** )\n",
        "\n",
        "* Get the <b>2<sup>nd</sup></b> row.(Python counts from **0**)"
      ],
      "metadata": {
        "id": "YD0vzzOf7ig0"
      }
    },
    {
      "cell_type": "code",
      "source": [
        "print(df.iloc[1])"
      ],
      "metadata": {
        "colab": {
          "base_uri": "https://localhost:8080/"
        },
        "id": "vbSMRNjE8ILF",
        "outputId": "e835cc77-0717-449b-dc31-4bce2256f831"
      },
      "execution_count": 64,
      "outputs": [
        {
          "output_type": "stream",
          "name": "stdout",
          "text": [
            "country      Afghanistan\n",
            "year                1957\n",
            "pop            9240934.0\n",
            "continent           Asia\n",
            "lifeExp           30.332\n",
            "gdpPercap      820.85303\n",
            "Name: 1, dtype: object\n"
          ]
        }
      ]
    },
    {
      "cell_type": "markdown",
      "source": [
        "* Get the <b>100<sup>nd</sup></b> row.(Python counts from **0**)"
      ],
      "metadata": {
        "id": "fCX2iGm-8gEe"
      }
    },
    {
      "cell_type": "code",
      "source": [
        "print(df.iloc[99])"
      ],
      "metadata": {
        "colab": {
          "base_uri": "https://localhost:8080/"
        },
        "id": "u3vhIiNM8nxz",
        "outputId": "39d69aef-7bff-4575-c425-39f8f8b8df03"
      },
      "execution_count": 65,
      "outputs": [
        {
          "output_type": "stream",
          "name": "stdout",
          "text": [
            "country      Bangladesh\n",
            "year               1967\n",
            "pop          62821884.0\n",
            "continent          Asia\n",
            "lifeExp          43.453\n",
            "gdpPercap    721.186086\n",
            "Name: 99, dtype: object\n"
          ]
        }
      ]
    },
    {
      "cell_type": "markdown",
      "source": [
        "* Get the <b>Last<sup></sup></b> row.(**-1**)"
      ],
      "metadata": {
        "id": "1zC50yv89FtY"
      }
    },
    {
      "cell_type": "code",
      "source": [
        "print(df.iloc[-1])"
      ],
      "metadata": {
        "colab": {
          "base_uri": "https://localhost:8080/"
        },
        "id": "AfiD00Re8qRx",
        "outputId": "2f3af2d4-3250-420d-ff03-e67be1f5850c"
      },
      "execution_count": 66,
      "outputs": [
        {
          "output_type": "stream",
          "name": "stdout",
          "text": [
            "country        Zimbabwe\n",
            "year               2007\n",
            "pop          12311143.0\n",
            "continent        Africa\n",
            "lifeExp          43.487\n",
            "gdpPercap    469.709298\n",
            "Name: 1703, dtype: object\n"
          ]
        }
      ]
    },
    {
      "cell_type": "markdown",
      "source": [
        "> #### important note:with `iloc` command we can pass in the `- 1` to get the **last row** but same thing that we could not do with `loc`. That is the difference between `loc` command and `iloc` command.   "
      ],
      "metadata": {
        "id": "hZqTMRYuTMXR"
      }
    },
    {
      "cell_type": "markdown",
      "source": [
        "* Get the <b>1<sup>st</sup></b> row, <b>100<sup>th</sup></b> row and <b>1000<sup>th</sup></b> row.(Python counts from **0**)"
      ],
      "metadata": {
        "id": "E_CTlYf4-0w7"
      }
    },
    {
      "cell_type": "code",
      "source": [
        "print(df.iloc[[0,99,999]])"
      ],
      "metadata": {
        "colab": {
          "base_uri": "https://localhost:8080/"
        },
        "id": "7AA_WVog9VQQ",
        "outputId": "3762e555-6a75-4f94-c68f-45ca87939100"
      },
      "execution_count": 67,
      "outputs": [
        {
          "output_type": "stream",
          "name": "stdout",
          "text": [
            "         country  year         pop continent  lifeExp    gdpPercap\n",
            "0    Afghanistan  1952   8425333.0      Asia   28.801   779.445314\n",
            "99    Bangladesh  1967  62821884.0      Asia   43.453   721.186086\n",
            "999     Mongolia  1967   1149500.0      Asia   51.253  1226.041130\n"
          ]
        }
      ]
    },
    {
      "cell_type": "markdown",
      "source": [
        "### Subsetting Columns\n",
        "![light](https://user-images.githubusercontent.com/12748752/126882596-b9ba4645-7001-435e-9a3c-d4416a2543c1.png)\n",
        "\n",
        "* The Python **slicing syntax** uses a **colon** (**`:`**)\n",
        "* If we have **just a colon**, the attribute refers to **everything**.\n",
        "* So, if we just want to get the **first column** using the `loc` or `iloc` syntax, we can write something like **`df.loc[:, [columns]]`** to subset the column(s).\n",
        "\n",
        "#### <ins>Note:</ins> `loc`\n",
        "* subset the columns with `loc`,\n",
        "* note the position of the **colon**.\n",
        "* **It is used to select all rows**.\n",
        "\n",
        "It's works just like\n",
        "```Python\n",
        "subset=df[['year','pop']]\n",
        "```"
      ],
      "metadata": {
        "id": "tnU_3C_X_Ss9"
      }
    },
    {
      "cell_type": "code",
      "source": [
        "subset= df.loc[:, ['year','pop']]\n",
        "print(subset.head())"
      ],
      "metadata": {
        "colab": {
          "base_uri": "https://localhost:8080/"
        },
        "id": "T3X9OE9W-7Mw",
        "outputId": "1b641693-9b63-41f8-d5e2-356cdb1ed6f0"
      },
      "execution_count": 68,
      "outputs": [
        {
          "output_type": "stream",
          "name": "stdout",
          "text": [
            "   year         pop\n",
            "0  1952   8425333.0\n",
            "1  1957   9240934.0\n",
            "2  1962  10267083.0\n",
            "3  1967  11537966.0\n",
            "4  1972  13079460.0\n"
          ]
        }
      ]
    },
    {
      "cell_type": "code",
      "source": [
        "# @title\n",
        "subset.info()"
      ],
      "metadata": {
        "colab": {
          "base_uri": "https://localhost:8080/"
        },
        "cellView": "form",
        "id": "Ytv5mOOKL07B",
        "outputId": "91acbeb8-be87-40f0-8bc5-935b34c99045"
      },
      "execution_count": 69,
      "outputs": [
        {
          "output_type": "stream",
          "name": "stdout",
          "text": [
            "<class 'pandas.core.frame.DataFrame'>\n",
            "RangeIndex: 1704 entries, 0 to 1703\n",
            "Data columns (total 2 columns):\n",
            " #   Column  Non-Null Count  Dtype  \n",
            "---  ------  --------------  -----  \n",
            " 0   year    1704 non-null   int64  \n",
            " 1   pop     1704 non-null   float64\n",
            "dtypes: float64(1), int64(1)\n",
            "memory usage: 26.8 KB\n"
          ]
        }
      ]
    },
    {
      "cell_type": "code",
      "source": [
        "df[['year','pop']].info()"
      ],
      "metadata": {
        "colab": {
          "base_uri": "https://localhost:8080/"
        },
        "id": "obIA2BRnOWP_",
        "outputId": "0f6a3417-9626-47e0-e4a2-bdb36d44373a"
      },
      "execution_count": 70,
      "outputs": [
        {
          "output_type": "stream",
          "name": "stdout",
          "text": [
            "<class 'pandas.core.frame.DataFrame'>\n",
            "RangeIndex: 1704 entries, 0 to 1703\n",
            "Data columns (total 2 columns):\n",
            " #   Column  Non-Null Count  Dtype  \n",
            "---  ------  --------------  -----  \n",
            " 0   year    1704 non-null   int64  \n",
            " 1   pop     1704 non-null   float64\n",
            "dtypes: float64(1), int64(1)\n",
            "memory usage: 26.8 KB\n"
          ]
        }
      ]
    },
    {
      "cell_type": "markdown",
      "source": [
        "### <ins>Note:</ins> `iloc`\n",
        "* subset column with `iloc`,\n",
        "* `iloc` will allow us to use integers\n",
        "* -1 will select the last column."
      ],
      "metadata": {
        "id": "QezE49ymPkSa"
      }
    },
    {
      "cell_type": "code",
      "source": [
        "subset= df.iloc[:, [2,4,-1]]\n",
        "print(subset.head())"
      ],
      "metadata": {
        "colab": {
          "base_uri": "https://localhost:8080/"
        },
        "id": "OLM4FyfuPCM3",
        "outputId": "0bc3f3a7-e7ff-4797-e892-80ce4f182bca"
      },
      "execution_count": 72,
      "outputs": [
        {
          "output_type": "stream",
          "name": "stdout",
          "text": [
            "          pop  lifeExp   gdpPercap\n",
            "0   8425333.0   28.801  779.445314\n",
            "1   9240934.0   30.332  820.853030\n",
            "2  10267083.0   31.997  853.100710\n",
            "3  11537966.0   34.020  836.197138\n",
            "4  13079460.0   36.088  739.981106\n"
          ]
        }
      ]
    },
    {
      "cell_type": "markdown",
      "source": [
        "* See that we are able to get the **last column** and the **population column**, **life expectancy column**.\n",
        "\n",
        "  * 2 = 'pop'\n",
        "  * 4 = 'lifeExp'\n",
        "  * -1 = 5<sup>th</sup> column or 'gdpPercap'\n",
        "   \n",
        "<div align=\"center\">\n",
        "\n",
        "|country|year|pop|continent|lifeExp|gdpPercap|\n",
        "|:---:|:---:|:---:|:---:|:---:|:---:|\n",
        "|0 |1 |2 |3 |4 | 5 |\n",
        "\n",
        "</div>"
      ],
      "metadata": {
        "id": "S0bVwNlWT8eH"
      }
    },
    {
      "cell_type": "markdown",
      "source": [
        "### Subsetting Columns by Range: $\\large{\\color{Purple}range()}$\n",
        "![light](https://user-images.githubusercontent.com/12748752/126882596-b9ba4645-7001-435e-9a3c-d4416a2543c1.png)\n",
        "\n",
        "### Create a range of integers from **0 to 4** inclusive."
      ],
      "metadata": {
        "id": "Pmu0WfDgYO8c"
      }
    },
    {
      "cell_type": "code",
      "source": [
        "small_range = list(range(5))\n",
        "print(small_range)"
      ],
      "metadata": {
        "colab": {
          "base_uri": "https://localhost:8080/"
        },
        "id": "VAMoGRIaQkse",
        "outputId": "865458a0-7561-40fe-d5a4-184d5f68de58"
      },
      "execution_count": 73,
      "outputs": [
        {
          "output_type": "stream",
          "name": "stdout",
          "text": [
            "[0, 1, 2, 3, 4]\n"
          ]
        }
      ]
    },
    {
      "cell_type": "code",
      "source": [
        "subset= df.iloc[:, small_range]\n",
        "print(subset.head())"
      ],
      "metadata": {
        "colab": {
          "base_uri": "https://localhost:8080/"
        },
        "id": "NCc0vMomZEkC",
        "outputId": "42c380a3-c433-413a-a100-4444912f93e6"
      },
      "execution_count": 74,
      "outputs": [
        {
          "output_type": "stream",
          "name": "stdout",
          "text": [
            "       country  year         pop continent  lifeExp\n",
            "0  Afghanistan  1952   8425333.0      Asia   28.801\n",
            "1  Afghanistan  1957   9240934.0      Asia   30.332\n",
            "2  Afghanistan  1962  10267083.0      Asia   31.997\n",
            "3  Afghanistan  1967  11537966.0      Asia   34.020\n",
            "4  Afghanistan  1972  13079460.0      Asia   36.088\n"
          ]
        }
      ]
    },
    {
      "cell_type": "markdown",
      "source": [
        "### Subsetting Rows and Columns Simultaneously\n",
        "![light](https://user-images.githubusercontent.com/12748752/126882596-b9ba4645-7001-435e-9a3c-d4416a2543c1.png)\n",
        "\n",
        "### Using $\\large{\\color{Purple}\\ loc()}$\n",
        "* selecting a cell, <b>43<sup>th</sup></b> row and the column name is '**country**'\n",
        "* passing **string** as the argument for '**country**' ."
      ],
      "metadata": {
        "id": "FGhhhI8hZyVn"
      }
    },
    {
      "cell_type": "code",
      "source": [
        "df.loc[42,'country']"
      ],
      "metadata": {
        "colab": {
          "base_uri": "https://localhost:8080/",
          "height": 36
        },
        "id": "YbEOTlSTaWY2",
        "outputId": "4efd3567-a2c4-4307-a050-2147e969ee23"
      },
      "execution_count": 78,
      "outputs": [
        {
          "output_type": "execute_result",
          "data": {
            "text/plain": [
              "'Angola'"
            ],
            "application/vnd.google.colaboratory.intrinsic+json": {
              "type": "string"
            }
          },
          "metadata": {},
          "execution_count": 78
        }
      ]
    },
    {
      "cell_type": "markdown",
      "source": [
        "### Using $\\large{\\color{Purple}iloc()}$ function\n",
        "* selecting a cell, <b>43<sup>th</sup></b> row and the column name is '**country**'\n",
        "* passing **number** as the argument for '**country**' ."
      ],
      "metadata": {
        "id": "OKplYDDadlXH"
      }
    },
    {
      "cell_type": "code",
      "source": [
        "print(df.iloc[42, 0])"
      ],
      "metadata": {
        "colab": {
          "base_uri": "https://localhost:8080/"
        },
        "id": "MwI4qNYLcEfg",
        "outputId": "0fd48db2-ecb6-45c2-8562-d13d72d25485"
      },
      "execution_count": 82,
      "outputs": [
        {
          "output_type": "stream",
          "name": "stdout",
          "text": [
            "Angola\n"
          ]
        }
      ]
    },
    {
      "cell_type": "markdown",
      "source": [
        "### Subsetting Multiple Rows and Columns\n",
        "![light](https://user-images.githubusercontent.com/12748752/126882596-b9ba4645-7001-435e-9a3c-d4416a2543c1.png)\n",
        "\n",
        "### $\\large{\\color{Purple}iloc()}$ function\n",
        "* Get the <b>1<sup>st</sup></b>, <b>100<sup>th</sup></b> and <b>1000<sup>th</sup></b> rows, from <b>1<sup>st</sup></b>, <b>4<sup>th</sup></b> and <b>6<sup>th</sup></b> columns.\n",
        "* all numerical parameters"
      ],
      "metadata": {
        "id": "KO6I1y6OfAcW"
      }
    },
    {
      "cell_type": "code",
      "source": [
        "print(df.iloc[[0,99,999],[0,3,5]])"
      ],
      "metadata": {
        "colab": {
          "base_uri": "https://localhost:8080/"
        },
        "id": "y__ZEkrif_M3",
        "outputId": "8bdbcf4b-130d-44ae-ba45-2230fcd79962"
      },
      "execution_count": 83,
      "outputs": [
        {
          "output_type": "stream",
          "name": "stdout",
          "text": [
            "         country continent    gdpPercap\n",
            "0    Afghanistan      Asia   779.445314\n",
            "99    Bangladesh      Asia   721.186086\n",
            "999     Mongolia      Asia  1226.041130\n"
          ]
        }
      ]
    },
    {
      "cell_type": "markdown",
      "source": [
        "### $\\large{\\color{Purple}loc()}$ function\n",
        "* Get the <b>1<sup>st</sup></b>, <b>100<sup>th</sup></b> and <b>1000<sup>th</sup></b> rows, from <b>1<sup>st</sup></b>, <b>4<sup>th</sup></b> and <b>6<sup>th</sup></b> columns.\n",
        "* 'country', 'continent', 'gdpPercap' as string parameters"
      ],
      "metadata": {
        "id": "ca8ffvval83d"
      }
    },
    {
      "cell_type": "code",
      "source": [
        "print(df.loc[[0,99,999],['country', 'continent','gdpPercap']])"
      ],
      "metadata": {
        "colab": {
          "base_uri": "https://localhost:8080/"
        },
        "id": "Rk-JyaEfmfK6",
        "outputId": "444a0b9a-2121-4442-929d-93643568705c"
      },
      "execution_count": 85,
      "outputs": [
        {
          "output_type": "stream",
          "name": "stdout",
          "text": [
            "         country continent    gdpPercap\n",
            "0    Afghanistan      Asia   779.445314\n",
            "99    Bangladesh      Asia   721.186086\n",
            "999     Mongolia      Asia  1226.041130\n"
          ]
        }
      ]
    },
    {
      "cell_type": "markdown",
      "source": [
        "### range of rows with the same code above"
      ],
      "metadata": {
        "id": "pIq6Z3V5m7uv"
      }
    },
    {
      "cell_type": "code",
      "source": [
        "print(df.loc[10:13,['country', 'continent','gdpPercap']])"
      ],
      "metadata": {
        "colab": {
          "base_uri": "https://localhost:8080/"
        },
        "id": "5gToNhzaejrF",
        "outputId": "f1d57aef-96be-4a29-85bb-8503c15fb116"
      },
      "execution_count": 87,
      "outputs": [
        {
          "output_type": "stream",
          "name": "stdout",
          "text": [
            "        country continent    gdpPercap\n",
            "10  Afghanistan      Asia   726.734055\n",
            "11  Afghanistan      Asia   974.580338\n",
            "12      Albania    Europe  1601.056136\n",
            "13      Albania    Europe  1942.284244\n"
          ]
        }
      ]
    },
    {
      "cell_type": "code",
      "source": [
        "print(df.head(n=10))"
      ],
      "metadata": {
        "colab": {
          "base_uri": "https://localhost:8080/"
        },
        "id": "fomo18vUnIHR",
        "outputId": "1c614ddf-000d-4b79-a294-256f78c1e9cc"
      },
      "execution_count": 88,
      "outputs": [
        {
          "output_type": "stream",
          "name": "stdout",
          "text": [
            "       country  year         pop continent  lifeExp   gdpPercap\n",
            "0  Afghanistan  1952   8425333.0      Asia   28.801  779.445314\n",
            "1  Afghanistan  1957   9240934.0      Asia   30.332  820.853030\n",
            "2  Afghanistan  1962  10267083.0      Asia   31.997  853.100710\n",
            "3  Afghanistan  1967  11537966.0      Asia   34.020  836.197138\n",
            "4  Afghanistan  1972  13079460.0      Asia   36.088  739.981106\n",
            "5  Afghanistan  1977  14880372.0      Asia   38.438  786.113360\n",
            "6  Afghanistan  1982  12881816.0      Asia   39.854  978.011439\n",
            "7  Afghanistan  1987  13867957.0      Asia   40.822  852.395945\n",
            "8  Afghanistan  1992  16317921.0      Asia   41.674  649.341395\n",
            "9  Afghanistan  1997  22227415.0      Asia   41.763  635.341351\n"
          ]
        }
      ]
    },
    {
      "cell_type": "markdown",
      "source": [
        "###  $\\large{\\color{Purple}groupby()}$ and $\\large{\\color{Purple}mean()}$ :Grouped Means\n",
        "![light](https://user-images.githubusercontent.com/12748752/126882596-b9ba4645-7001-435e-9a3c-d4416a2543c1.png)\n",
        "* For each year in our data, what was the average life expectancy?\n",
        "* To answer this question,\n",
        "* we need to split our data into parts by year;\n",
        "* then we get the **'lifeExp'** column and calculate the **mean**"
      ],
      "metadata": {
        "id": "X4VFbIjEoKfZ"
      }
    },
    {
      "cell_type": "code",
      "source": [
        "print(df.groupby('year')['lifeExp'].mean())"
      ],
      "metadata": {
        "colab": {
          "base_uri": "https://localhost:8080/"
        },
        "id": "c6jFnD3BnitJ",
        "outputId": "823dfb5d-b5fc-4d53-afb6-8db988343d30"
      },
      "execution_count": 97,
      "outputs": [
        {
          "output_type": "stream",
          "name": "stdout",
          "text": [
            "year\n",
            "1952    49.057620\n",
            "1957    51.507401\n",
            "1962    53.609249\n",
            "1967    55.678290\n",
            "1972    57.647386\n",
            "1977    59.570157\n",
            "1982    61.533197\n",
            "1987    63.212613\n",
            "1992    64.160338\n",
            "1997    65.014676\n",
            "2002    65.694923\n",
            "2007    67.007423\n",
            "Name: lifeExp, dtype: float64\n"
          ]
        }
      ]
    },
    {
      "cell_type": "code",
      "source": [
        "print(df.groupby(['year','continent'])[['lifeExp','gdpPercap']].mean())"
      ],
      "metadata": {
        "colab": {
          "base_uri": "https://localhost:8080/"
        },
        "id": "i453CJ3fo12Q",
        "outputId": "e8527bee-3766-4d6c-ab1a-3d9d716d37b0"
      },
      "execution_count": 96,
      "outputs": [
        {
          "output_type": "stream",
          "name": "stdout",
          "text": [
            "                  lifeExp     gdpPercap\n",
            "year continent                         \n",
            "1952 Africa     39.135500   1252.572466\n",
            "     Americas   53.279840   4079.062552\n",
            "     Asia       46.314394   5195.484004\n",
            "     Europe     64.408500   5661.057435\n",
            "     Oceania    69.255000  10298.085650\n",
            "1957 Africa     41.266346   1385.236062\n",
            "     Americas   55.960280   4616.043733\n",
            "     Asia       49.318544   5787.732940\n",
            "     Europe     66.703067   6963.012816\n",
            "     Oceania    70.295000  11598.522455\n",
            "1962 Africa     43.319442   1598.078825\n",
            "     Americas   58.398760   4901.541870\n",
            "     Asia       51.563223   5729.369625\n",
            "     Europe     68.539233   8365.486814\n",
            "     Oceania    71.085000  12696.452430\n",
            "1967 Africa     45.334538   2050.363801\n",
            "     Americas   60.410920   5668.253496\n",
            "     Asia       54.663640   5971.173374\n",
            "     Europe     69.737600  10143.823757\n",
            "     Oceania    71.310000  14495.021790\n",
            "1972 Africa     47.450942   2339.615674\n",
            "     Americas   62.394920   6491.334139\n",
            "     Asia       57.319269   8187.468699\n",
            "     Europe     70.775033  12479.575246\n",
            "     Oceania    71.910000  16417.333380\n",
            "1977 Africa     49.580423   2585.938508\n",
            "     Americas   64.391560   7352.007126\n",
            "     Asia       59.610556   7791.314020\n",
            "     Europe     71.937767  14283.979110\n",
            "     Oceania    72.855000  17283.957605\n",
            "1982 Africa     51.592865   2481.592960\n",
            "     Americas   66.228840   7506.737088\n",
            "     Asia       62.617939   7434.135157\n",
            "     Europe     72.806400  15617.896551\n",
            "     Oceania    74.290000  18554.709840\n",
            "1987 Africa     53.344788   2282.668991\n",
            "     Americas   68.090720   7793.400261\n",
            "     Asia       64.851182   7608.226508\n",
            "     Europe     73.642167  17214.310727\n",
            "     Oceania    75.320000  20448.040160\n",
            "1992 Africa     53.629577   2281.810333\n",
            "     Americas   69.568360   8044.934406\n",
            "     Asia       66.537212   8639.690248\n",
            "     Europe     74.440100  17061.568084\n",
            "     Oceania    76.945000  20894.045885\n",
            "1997 Africa     53.598269   2378.759555\n",
            "     Americas   71.150480   8889.300863\n",
            "     Asia       68.020515   9834.093295\n",
            "     Europe     75.505167  19076.781802\n",
            "     Oceania    78.190000  24024.175170\n",
            "2002 Africa     53.325231   2599.385159\n",
            "     Americas   72.422040   9287.677107\n",
            "     Asia       69.233879  10174.090397\n",
            "     Europe     76.700600  21711.732422\n",
            "     Oceania    79.740000  26938.778040\n",
            "2007 Africa     54.806038   3089.032605\n",
            "     Americas   73.608120  11003.031625\n",
            "     Asia       70.728485  12473.026870\n",
            "     Europe     77.648600  25054.481636\n",
            "     Oceania    80.719500  29810.188275\n"
          ]
        }
      ]
    },
    {
      "cell_type": "markdown",
      "source": [
        "#### $\\large{\\color{Purple}reset\\_index()}$ method- Use if you need to “flatten” the dataframe.\n",
        "\n",
        "![light](https://user-images.githubusercontent.com/12748752/126882596-b9ba4645-7001-435e-9a3c-d4416a2543c1.png)\n",
        "\n"
      ],
      "metadata": {
        "id": "oNvx55Lb6iTg"
      }
    },
    {
      "cell_type": "code",
      "source": [
        "multi_grop_var = df.groupby(['year','continent'])[['lifeExp','gdpPercap']].mean()"
      ],
      "metadata": {
        "id": "syByeDap519b"
      },
      "execution_count": 92,
      "outputs": []
    },
    {
      "cell_type": "code",
      "source": [
        "flat = multi_grop_var.reset_index()"
      ],
      "metadata": {
        "id": "0U3GNFSI75eV"
      },
      "execution_count": 93,
      "outputs": []
    },
    {
      "cell_type": "code",
      "source": [
        "print(flat)"
      ],
      "metadata": {
        "colab": {
          "base_uri": "https://localhost:8080/"
        },
        "id": "7_7OckVD8Iv-",
        "outputId": "0ae8cf43-b852-48d0-bcf9-cb1139843504"
      },
      "execution_count": 95,
      "outputs": [
        {
          "output_type": "stream",
          "name": "stdout",
          "text": [
            "    year continent    lifeExp     gdpPercap\n",
            "0   1952    Africa  39.135500   1252.572466\n",
            "1   1952  Americas  53.279840   4079.062552\n",
            "2   1952      Asia  46.314394   5195.484004\n",
            "3   1952    Europe  64.408500   5661.057435\n",
            "4   1952   Oceania  69.255000  10298.085650\n",
            "5   1957    Africa  41.266346   1385.236062\n",
            "6   1957  Americas  55.960280   4616.043733\n",
            "7   1957      Asia  49.318544   5787.732940\n",
            "8   1957    Europe  66.703067   6963.012816\n",
            "9   1957   Oceania  70.295000  11598.522455\n",
            "10  1962    Africa  43.319442   1598.078825\n",
            "11  1962  Americas  58.398760   4901.541870\n",
            "12  1962      Asia  51.563223   5729.369625\n",
            "13  1962    Europe  68.539233   8365.486814\n",
            "14  1962   Oceania  71.085000  12696.452430\n",
            "15  1967    Africa  45.334538   2050.363801\n",
            "16  1967  Americas  60.410920   5668.253496\n",
            "17  1967      Asia  54.663640   5971.173374\n",
            "18  1967    Europe  69.737600  10143.823757\n",
            "19  1967   Oceania  71.310000  14495.021790\n",
            "20  1972    Africa  47.450942   2339.615674\n",
            "21  1972  Americas  62.394920   6491.334139\n",
            "22  1972      Asia  57.319269   8187.468699\n",
            "23  1972    Europe  70.775033  12479.575246\n",
            "24  1972   Oceania  71.910000  16417.333380\n",
            "25  1977    Africa  49.580423   2585.938508\n",
            "26  1977  Americas  64.391560   7352.007126\n",
            "27  1977      Asia  59.610556   7791.314020\n",
            "28  1977    Europe  71.937767  14283.979110\n",
            "29  1977   Oceania  72.855000  17283.957605\n",
            "30  1982    Africa  51.592865   2481.592960\n",
            "31  1982  Americas  66.228840   7506.737088\n",
            "32  1982      Asia  62.617939   7434.135157\n",
            "33  1982    Europe  72.806400  15617.896551\n",
            "34  1982   Oceania  74.290000  18554.709840\n",
            "35  1987    Africa  53.344788   2282.668991\n",
            "36  1987  Americas  68.090720   7793.400261\n",
            "37  1987      Asia  64.851182   7608.226508\n",
            "38  1987    Europe  73.642167  17214.310727\n",
            "39  1987   Oceania  75.320000  20448.040160\n",
            "40  1992    Africa  53.629577   2281.810333\n",
            "41  1992  Americas  69.568360   8044.934406\n",
            "42  1992      Asia  66.537212   8639.690248\n",
            "43  1992    Europe  74.440100  17061.568084\n",
            "44  1992   Oceania  76.945000  20894.045885\n",
            "45  1997    Africa  53.598269   2378.759555\n",
            "46  1997  Americas  71.150480   8889.300863\n",
            "47  1997      Asia  68.020515   9834.093295\n",
            "48  1997    Europe  75.505167  19076.781802\n",
            "49  1997   Oceania  78.190000  24024.175170\n",
            "50  2002    Africa  53.325231   2599.385159\n",
            "51  2002  Americas  72.422040   9287.677107\n",
            "52  2002      Asia  69.233879  10174.090397\n",
            "53  2002    Europe  76.700600  21711.732422\n",
            "54  2002   Oceania  79.740000  26938.778040\n",
            "55  2007    Africa  54.806038   3089.032605\n",
            "56  2007  Americas  73.608120  11003.031625\n",
            "57  2007      Asia  70.728485  12473.026870\n",
            "58  2007    Europe  77.648600  25054.481636\n",
            "59  2007   Oceania  80.719500  29810.188275\n"
          ]
        }
      ]
    },
    {
      "cell_type": "markdown",
      "source": [
        "####  Grouped Frequency Count $\\large{\\color{Purple}\\ nunique()}$\n",
        "![light](https://user-images.githubusercontent.com/12748752/126882596-b9ba4645-7001-435e-9a3c-d4416a2543c1.png)\n",
        "\n",
        "* gets counts of the unique values of a Pandas series."
      ],
      "metadata": {
        "id": "3NH8EC5Z84og"
      }
    },
    {
      "cell_type": "code",
      "source": [
        "print(df.groupby('continent')['country'].nunique())"
      ],
      "metadata": {
        "colab": {
          "base_uri": "https://localhost:8080/"
        },
        "id": "Mq01MBwP8OHp",
        "outputId": "4e20f70f-c295-468a-be7e-3a5af8a9e0f3"
      },
      "execution_count": 98,
      "outputs": [
        {
          "output_type": "stream",
          "name": "stdout",
          "text": [
            "continent\n",
            "Africa      52\n",
            "Americas    25\n",
            "Asia        33\n",
            "Europe      30\n",
            "Oceania      2\n",
            "Name: country, dtype: int64\n"
          ]
        }
      ]
    },
    {
      "cell_type": "markdown",
      "source": [
        "####  Basic Plot with\n",
        "![light](https://user-images.githubusercontent.com/12748752/126882596-b9ba4645-7001-435e-9a3c-d4416a2543c1.png)\n"
      ],
      "metadata": {
        "id": "OHuVDEJf-sRT"
      }
    },
    {
      "cell_type": "code",
      "source": [
        "global_yearly_life_expt = df.groupby('year')['lifeExp'].mean()\n",
        "print(global_yearly_life_expt)"
      ],
      "metadata": {
        "colab": {
          "base_uri": "https://localhost:8080/"
        },
        "id": "a6Kn-kHA-IRG",
        "outputId": "80721af7-b601-4cec-eeee-f2fb115505ac"
      },
      "execution_count": 100,
      "outputs": [
        {
          "output_type": "stream",
          "name": "stdout",
          "text": [
            "year\n",
            "1952    49.057620\n",
            "1957    51.507401\n",
            "1962    53.609249\n",
            "1967    55.678290\n",
            "1972    57.647386\n",
            "1977    59.570157\n",
            "1982    61.533197\n",
            "1987    63.212613\n",
            "1992    64.160338\n",
            "1997    65.014676\n",
            "2002    65.694923\n",
            "2007    67.007423\n",
            "Name: lifeExp, dtype: float64\n"
          ]
        }
      ]
    },
    {
      "cell_type": "markdown",
      "source": [
        "### Plot the data"
      ],
      "metadata": {
        "id": "Xy7t4p1M_c0P"
      }
    },
    {
      "cell_type": "code",
      "source": [
        "global_yearly_life_expt.plot()"
      ],
      "metadata": {
        "colab": {
          "base_uri": "https://localhost:8080/",
          "height": 466
        },
        "id": "ZpNg-1R8_b07",
        "outputId": "8a803a63-ea8a-482a-f099-77a7d083cdfc"
      },
      "execution_count": 103,
      "outputs": [
        {
          "output_type": "execute_result",
          "data": {
            "text/plain": [
              "<Axes: xlabel='year'>"
            ]
          },
          "metadata": {},
          "execution_count": 103
        },
        {
          "output_type": "display_data",
          "data": {
            "text/plain": [
              "<Figure size 640x480 with 1 Axes>"
            ],
            "image/png": "[encoded data removed]"
          },
          "metadata": {}
        }
      ]
    },
    {
      "cell_type": "markdown",
      "source": [
        "#### $\\large{\\color{Purple}Visual\\ Representation\\ of\\ the\\ Data}$\n",
        "\n",
        "![light](https://user-images.githubusercontent.com/12748752/126882596-b9ba4645-7001-435e-9a3c-d4416a2543c1.png)\n",
        "\n",
        "* <ins><b>Histogram</ins></b> -- vertical bar chart of frequencies\n",
        "* <ins><b>Frequency Polygon</ins></b> -- line graph of frequencies\n",
        "* <ins><b>Ogive</ins></b> -- line graph of cumulative frequencies\n",
        "* <ins><b>Pie Chart</ins></b> -- proportional representation for categories of a whole\n",
        "* <ins><b>Stem and Leaf Plot</ins></b>\n",
        "* <ins><b>Pareto Chart</ins></b>\n",
        "* <ins><b>Scatter Plot</ins></b>"
      ],
      "metadata": {
        "id": "5Bg5GJ-CAsSy"
      }
    },
    {
      "cell_type": "markdown",
      "source": [
        "### Methods of visual presentation of data\n",
        "![light](https://user-images.githubusercontent.com/12748752/126882596-b9ba4645-7001-435e-9a3c-d4416a2543c1.png)\n",
        "\n",
        "* Table\n",
        "\n",
        "<div align=\"center\">\n",
        "\n",
        "| |1<sup>st</sup> Qtr | 2<sup>nd</sup>Qtr|3<sup>rd</sup> Qtr | 4<sup>th</sup> Qtr|\n",
        "|:--- |:--- |:--- |:--- |:--- |\n",
        "|East |20.4 |27.4 |90| 20.4|\n",
        "|West|30.6 | 38.6|34.6 |31.6 |\n",
        "|North  |45.9 |46.9 | 45|43.9 |\n",
        "\n",
        "</div>\n",
        "\n",
        "* Graph\n",
        "\n",
        "<p align=\"center\">\n",
        "\n",
        " <img src=\"https://github.com/iAmKankan/Data-Analytics-with-Python/assets/12748752/8c661964-5e15-4cab-9e9b-459c6f3d3f9f\" width= 50%/>\n",
        "\n",
        "</p>\n",
        "\n",
        "* Pie Chart\n",
        "\n",
        "<p align=\"center\">\n",
        "\n",
        " <img src=\"https://github.com/iAmKankan/Data-Analytics-with-Python/assets/12748752/21e30cc3-d7d6-4c21-8dd6-290307a453ad\" width= 50%/>\n",
        "\n",
        "</p>\n",
        "\n",
        "* Multiple Bar Chart\n",
        "\n",
        "<p align=\"center\">\n",
        "\n",
        " <img src=\"https://github.com/iAmKankan/Data-Analytics-with-Python/assets/12748752/0fdc8024-197c-433d-8709-bf5a6d15b6cb\" width= 60%/>\n",
        "\n",
        "</p>\n",
        "\n",
        "\n",
        "* Simple Pictogram\n",
        "\n",
        "<p align=\"center\">\n",
        "\n",
        " <img src=\"https://github.com/iAmKankan/Data-Analytics-with-Python/assets/12748752/d6137896-35c0-42d7-ab08-e7c99a44c745\" width= 60%/>\n",
        "\n",
        "</p>\n",
        "\n"
      ],
      "metadata": {
        "id": "umJRfD8ZBuaE"
      }
    },
    {
      "cell_type": "markdown",
      "source": [
        "#### $\\large{\\color{Purple}Frequency\\ Distribution}$\n",
        "\n",
        "![light](https://user-images.githubusercontent.com/12748752/126882596-b9ba4645-7001-435e-9a3c-d4416a2543c1.png)\n",
        "\n",
        "* Frequency Table\n",
        "\n",
        "<p align=\"center\">\n",
        "\n",
        " <img src=\"https://github.com/iAmKankan/Data-Analytics-with-Python/assets/12748752/0c25b5b3-7ba8-428a-8612-df231052185b\" width= 60%/>\n",
        "\n",
        "</p>\n",
        "\n",
        "#### $\\large{\\color{Purple}Frequency\\ Diagrams}$\n",
        "\n",
        "![light](https://user-images.githubusercontent.com/12748752/126882596-b9ba4645-7001-435e-9a3c-d4416a2543c1.png)\n",
        "\n",
        "<p align=\"center\">\n",
        "\n",
        " <img src=\"https://github.com/iAmKankan/Data-Analytics-with-Python/assets/12748752/9887c845-224a-4755-857d-3b336997600e\" width= 60%/>\n",
        "\n",
        "</p>\n",
        "\n",
        "This is **frequency polygon**. This figure is drawn from the previous table. So below 20 around 13. This represents frequency polygon. When you connect the midpoint.\n",
        "\n",
        "Then the, this one is the **cumulative frequency** It is not always, you cannot connect the midpoint, you have to be very careful with the data is continuous, then only you can connect one this bar. The data is not continuous, you cannot connect it."
      ],
      "metadata": {
        "id": "m9Wd_7FhG9VX"
      }
    },
    {
      "cell_type": "markdown",
      "source": [
        "#### $\\large{\\color{Purple}Histogram}$\n",
        "\n",
        "![light](https://user-images.githubusercontent.com/12748752/126882596-b9ba4645-7001-435e-9a3c-d4416a2543c1.png)\n",
        "\n",
        "\n",
        "<p align=\"center\">\n",
        "\n",
        " <img src=\"https://github.com/iAmKankan/Data-Analytics-with-Python/assets/12748752/00bade92-226d-4418-806f-ec4a4aec5c4d\" width= 60%/>\n",
        "\n",
        "</p>\n",
        "\n",
        "#### $\\large{\\color{Purple}Histogram\\ construction}$\n",
        "\n",
        "\n",
        "<p align=\"center\">\n",
        "\n",
        " <img src=\"https://github.com/iAmKankan/Data-Analytics-with-Python/assets/12748752/30d90cca-e2bf-4e43-b24c-b139de9457e6\" width= 60%/>\n",
        "\n",
        "</p>\n",
        "\n",
        "* The lower limit of the table values is going to in **x axis**.\n",
        "* The frequency is shown in the **y axis**.\n",
        "* You see that this is data in **continuous data**.\n",
        "\n",
        "* The purpose of histogram is- the histogram will give you a rough idea what is the **nature of the data**, **what kind of distribution it follows**.\n",
        "   *  Whether it is following **bell shaped curve**?\n",
        "   * Whether the data is **skewed right** or **skewed left**?"
      ],
      "metadata": {
        "id": "5cb0KwxZPVoj"
      }
    },
    {
      "cell_type": "markdown",
      "source": [
        "#### $\\large{\\color{Purple}Frequency Polygon}$\n",
        "\n",
        "![light](https://user-images.githubusercontent.com/12748752/126882596-b9ba4645-7001-435e-9a3c-d4416a2543c1.png)\n",
        "\n",
        "\n",
        "<p align=\"center\">\n",
        "\n",
        " <img src=\"https://github.com/iAmKankan/Data-Analytics-with-Python/assets/12748752/ac97464c-287f-4c63-b133-6eaa8b30fff3\" width= 60%/>\n",
        "\n",
        "</p>\n",
        "\n",
        "* If the midpoint of histogram is connected then there is called **frequency polygon**.\n",
        "* Because, the frequency polygon is used to know the trend."
      ],
      "metadata": {
        "id": "DOSJZ3kWRqxE"
      }
    },
    {
      "cell_type": "markdown",
      "source": [
        "#### $\\large{\\color{Purple}Ogive\\ (Cumulative\\ Frequency\\ Curve)}$\n",
        "\n",
        "![light](https://user-images.githubusercontent.com/12748752/126882596-b9ba4645-7001-435e-9a3c-d4416a2543c1.png)\n",
        "\n",
        "\n",
        "<p align=\"center\">\n",
        "\n",
        " <img src=\"https://github.com/iAmKankan/Data-Analytics-with-Python/assets/12748752/17dc3b4c-9332-4a4b-b4f2-c632b2cfdf72\" width= 60%/>\n",
        "\n",
        "</p>\n",
        "\n",
        "The advantage of this **ogive curve** is supposed if we want to know below 16, how many numbers are there, that can be read directly from the ogive curve. That is the purpose of **ogive curve**.\n",
        "\n",
        "\n",
        "#### $\\large{\\color{Purple}Relative\\ Frequency\\ Ogive}$\n",
        "\n",
        "![light](https://user-images.githubusercontent.com/12748752/126882596-b9ba4645-7001-435e-9a3c-d4416a2543c1.png)\n",
        "\n",
        "\n",
        "<p align=\"center\">\n",
        "\n",
        " <img src=\"https://github.com/iAmKankan/Data-Analytics-with-Python/assets/12748752/f7a2832b-143e-44a0-935c-7ccd86315f15\" width= 65%/>\n",
        "\n",
        "</p>\n",
        "\n",
        "Exactly similar to that now actual frequency that **relative frequency** was taken.\n",
        "\n"
      ],
      "metadata": {
        "id": "IYSOnfxNSrXo"
      }
    },
    {
      "cell_type": "markdown",
      "source": [
        "#### $\\large{\\color{Purple}Pareto\\ Chart}$\n",
        "\n",
        "![light](https://user-images.githubusercontent.com/12748752/126882596-b9ba4645-7001-435e-9a3c-d4416a2543c1.png)\n",
        "\n",
        "\n",
        "<p align=\"center\">\n",
        "\n",
        " <img src=\"https://github.com/iAmKankan/Data-Analytics-with-Python/assets/12748752/3cb237ba-6a93-44a7-bfff-dce14023a629\" width= 65%/>\n",
        "\n",
        "</p>\n",
        "\n",
        "The **Pareto chart** is having some applications in quality control also. This is to identify which is more important, important variable. Assume that, if you look at this Pareto chart. There are 3 axes one is frequency. In **x-axis**, different name is given poor wiring, short in coil, defective plug, other. You see there is one more variable in terms of percentage.\n",
        "\n",
        "For example, I am a quality control engineer, suppose my motor is failing so often. I want to know there are different reason for failing of the motor. I want to know what are the main reasons, due to which the motor fails. So what I have done. First I have go to frequency table, that is due to poor wiring, the motor was falling for failing 40 times, frequencies 40. Due to short in coil, the motor was failed 30 times.\n",
        "\n",
        "Due to defective in plug, the motor was failed 25 times. Due to some other reasons the motor was failed by say below 10 times. So the first technique is for drawing this one, we have to arrange in the descending order of their frequency. So in x axis that values are taken. Then the cumulative frequencies plotted on the, this axis. For example, how to interpret this table is. You see, here this value corresponding this only 70.\n",
        "\n",
        "So 70 % of the failure is due to only two reasons, that is poor wiring and short circuiting. So what is the meaning of this one is, if you are able to address these 2 problems, 70% of the failures can be eliminated. So the purpose of a Pareto chart is, to identify which is critical for us. Generally it is called 80-20 principle. This is called the Pareto principle .That is 80% of the problems are due to 20% of the reasons.\n",
        "\n",
        "So similarly here, when you look at this, the cell, here need not always 80, see the 70% the failures, only due to 2 factors that is due to poor wiring and short coil. So this is the pareto chart."
      ],
      "metadata": {
        "id": "H_9F9-CHU5Z4"
      }
    },
    {
      "cell_type": "markdown",
      "source": [
        "#### $\\large{\\color{Purple}Scatter\\ Plot}$\n",
        "\n",
        "![light](https://user-images.githubusercontent.com/12748752/126882596-b9ba4645-7001-435e-9a3c-d4416a2543c1.png)\n",
        "\n",
        "\n",
        "<p align=\"center\">\n",
        "\n",
        " <img src=\"https://github.com/iAmKankan/Data-Analytics-with-Python/assets/12748752/9f52266d-d712-4f97-8219-e8491b9ec6e6\" width= 65%/>\n",
        "\n",
        "</p>\n",
        "\n",
        "The **scatter plot** is so far what ever seen only for **one variable**, the scatter plot is used for **two variable**.\n",
        "* In **x-axis** **registered vehicle**, **y-axis** the **gasoline sales**.\n",
        "* Scatter plot says, **when the number of registered vehicle is increasing the gasoline sales is also increasing**.\n",
        "* So the scatter plot is used to know the trend out the data."
      ],
      "metadata": {
        "id": "qhM0NJNoWf46"
      }
    },
    {
      "cell_type": "markdown",
      "source": [
        "#### $\\large{\\color{Purple}Principles\\ of\\ Excellent\\ Graphs}$\n",
        "\n",
        "![light](https://user-images.githubusercontent.com/12748752/126882596-b9ba4645-7001-435e-9a3c-d4416a2543c1.png)\n",
        "\n",
        "* The graph should not distort the data\n",
        "* The graph should not contain unnecessary adornments (sometimes referred to as chart junk)\n",
        "* The scale on the vertical axis should begin at zero\n",
        "* All axes should be properly labeled\n",
        "* The graph should contain a title\n",
        "* The simplest possible graph should be used for a given set of data\n"
      ],
      "metadata": {
        "id": "Fp9E8Km8X1T3"
      }
    }
  ]
}